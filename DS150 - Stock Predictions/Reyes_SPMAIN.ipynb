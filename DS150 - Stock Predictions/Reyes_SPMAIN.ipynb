{
 "cells": [
  {
   "cell_type": "markdown",
   "metadata": {},
   "source": [
    "<div style=\"background-color: #e7f3fe; border-left: 6px solid #2196F3; padding: 10px; margin: 10px 0; color: #000;\">\n",
    "    <strong>A project:</strong> This is a study of new methods for me. Created by <strong> Julliane Reyes </strong> for the completion of requirements in DS150.\n",
    "</div>"
   ]
  },
  {
   "cell_type": "markdown",
   "metadata": {},
   "source": [
    " # <strong> Phase 1: Library Installs and Imports <strong>\n",
    " ***"
   ]
  },
  {
   "cell_type": "code",
   "execution_count": 1,
   "metadata": {},
   "outputs": [
    {
     "name": "stdout",
     "output_type": "stream",
     "text": [
      "Requirement already satisfied: yfinance in c:\\users\\reyes\\miniconda3\\lib\\site-packages (0.2.54)\n",
      "Requirement already satisfied: pandas>=1.3.0 in c:\\users\\reyes\\miniconda3\\lib\\site-packages (from yfinance) (2.2.3)\n",
      "Requirement already satisfied: numpy>=1.16.5 in c:\\users\\reyes\\miniconda3\\lib\\site-packages (from yfinance) (1.26.4)\n",
      "Requirement already satisfied: requests>=2.31 in c:\\users\\reyes\\miniconda3\\lib\\site-packages (from yfinance) (2.32.3)\n",
      "Requirement already satisfied: multitasking>=0.0.7 in c:\\users\\reyes\\miniconda3\\lib\\site-packages (from yfinance) (0.0.11)\n",
      "Requirement already satisfied: platformdirs>=2.0.0 in c:\\users\\reyes\\miniconda3\\lib\\site-packages (from yfinance) (3.10.0)\n",
      "Requirement already satisfied: pytz>=2022.5 in c:\\users\\reyes\\miniconda3\\lib\\site-packages (from yfinance) (2024.2)\n",
      "Requirement already satisfied: frozendict>=2.3.4 in c:\\users\\reyes\\miniconda3\\lib\\site-packages (from yfinance) (2.4.2)\n",
      "Requirement already satisfied: peewee>=3.16.2 in c:\\users\\reyes\\miniconda3\\lib\\site-packages (from yfinance) (3.17.9)\n",
      "Requirement already satisfied: beautifulsoup4>=4.11.1 in c:\\users\\reyes\\miniconda3\\lib\\site-packages (from yfinance) (4.12.3)\n",
      "Requirement already satisfied: soupsieve>1.2 in c:\\users\\reyes\\miniconda3\\lib\\site-packages (from beautifulsoup4>=4.11.1->yfinance) (2.5)\n",
      "Requirement already satisfied: python-dateutil>=2.8.2 in c:\\users\\reyes\\miniconda3\\lib\\site-packages (from pandas>=1.3.0->yfinance) (2.9.0.post0)\n",
      "Requirement already satisfied: tzdata>=2022.7 in c:\\users\\reyes\\miniconda3\\lib\\site-packages (from pandas>=1.3.0->yfinance) (2024.2)\n",
      "Requirement already satisfied: charset-normalizer<4,>=2 in c:\\users\\reyes\\miniconda3\\lib\\site-packages (from requests>=2.31->yfinance) (3.3.2)\n",
      "Requirement already satisfied: idna<4,>=2.5 in c:\\users\\reyes\\miniconda3\\lib\\site-packages (from requests>=2.31->yfinance) (3.7)\n",
      "Requirement already satisfied: urllib3<3,>=1.21.1 in c:\\users\\reyes\\miniconda3\\lib\\site-packages (from requests>=2.31->yfinance) (2.2.3)\n",
      "Requirement already satisfied: certifi>=2017.4.17 in c:\\users\\reyes\\miniconda3\\lib\\site-packages (from requests>=2.31->yfinance) (2025.1.31)\n",
      "Requirement already satisfied: six>=1.5 in c:\\users\\reyes\\miniconda3\\lib\\site-packages (from python-dateutil>=2.8.2->pandas>=1.3.0->yfinance) (1.16.0)\n",
      "Note: you may need to restart the kernel to use updated packages.\n"
     ]
    }
   ],
   "source": [
    "%pip install yfinance"
   ]
  },
  {
   "cell_type": "code",
   "execution_count": 2,
   "metadata": {},
   "outputs": [],
   "source": [
    "import yfinance as yf\n",
    "#---------------------------------------------------\n",
    "import numpy as np \n",
    "import pandas as pd \n",
    "import matplotlib.pyplot as plt \n",
    "import seaborn as sns"
   ]
  },
  {
   "cell_type": "code",
   "execution_count": 3,
   "metadata": {},
   "outputs": [],
   "source": [
    "''' \n",
    "A .py file containing the machine learning models for the project. \n",
    "Just an experimentation to be honest.\n",
    "'''\n",
    "\n",
    "from Models.RY_MachineLearningModels import (\n",
    "    LinearReg_model,\n",
    "    AuReg_model,\n",
    "    MovAve_model,\n",
    "    ARIMA_model,\n",
    "    SARIMA_model,\n",
    "    GARCH_model,\n",
    "    LSTM_model\n",
    ")\n",
    "\n",
    "from Models.RY_MLEvaluation import (\n",
    "    LinearReg_eval,\n",
    "    AuReg_eval,\n",
    "    MovAve_eval,\n",
    "    ARIMA_eval,\n",
    "    SARIMA_eval,\n",
    "    GARCH_eval,\n",
    "    LSTM_eval\n",
    ")"
   ]
  },
  {
   "cell_type": "code",
   "execution_count": 4,
   "metadata": {},
   "outputs": [],
   "source": [
    "from sklearn.linear_model import LinearRegression\n",
    "from statsmodels.tsa.ar_model import AutoReg\n",
    "from statsmodels.tsa.arima.model import ARIMA\n",
    "from statsmodels.tsa.statespace.sarimax import SARIMAX\n",
    "from arch import arch_model\n",
    "import tensorflow as tf\n",
    "from tensorflow import keras\n",
    "from functools import lru_cache\n",
    "\n",
    "from sklearn.preprocessing import StandardScaler, OneHotEncoder\n",
    "from sklearn.compose import ColumnTransformer\n",
    "from sklearn.pipeline import Pipeline\n",
    "from sklearn.model_selection import train_test_split\n",
    "from sklearn.metrics import mean_squared_error, r2_score"
   ]
  },
  {
   "cell_type": "markdown",
   "metadata": {},
   "source": [
    " # <strong> Phase 2: Stock Vars. Preprocessing\n",
    " ***"
   ]
  },
  {
   "cell_type": "code",
   "execution_count": 5,
   "metadata": {},
   "outputs": [
    {
     "name": "stdout",
     "output_type": "stream",
     "text": [
      "YF.download() has changed argument auto_adjust default to True\n"
     ]
    },
    {
     "name": "stderr",
     "output_type": "stream",
     "text": [
      "[*********************100%***********************]  5 of 5 completed\n"
     ]
    }
   ],
   "source": [
    "#Download all stock data\n",
    "\n",
    "allstocks = [\"TSLA\", \"GME\", \"AMD\", \"AAPL\", \"SPY\"]\n",
    "allstocksdata = yf.download(allstocks, start=\"2020-01-01\", end=\"2025-03-17\")"
   ]
  },
  {
   "cell_type": "code",
   "execution_count": 6,
   "metadata": {},
   "outputs": [
    {
     "data": {
      "application/vnd.microsoft.datawrangler.viewer.v0+json": {
       "columns": [
        {
         "name": "Date",
         "rawType": "datetime64[ns]",
         "type": "datetime"
        },
        {
         "name": "('Close', 'AAPL')",
         "rawType": "float64",
         "type": "float"
        },
        {
         "name": "('Close', 'AMD')",
         "rawType": "float64",
         "type": "float"
        },
        {
         "name": "('Close', 'GME')",
         "rawType": "float64",
         "type": "float"
        },
        {
         "name": "('Close', 'SPY')",
         "rawType": "float64",
         "type": "float"
        },
        {
         "name": "('Close', 'TSLA')",
         "rawType": "float64",
         "type": "float"
        },
        {
         "name": "('High', 'AAPL')",
         "rawType": "float64",
         "type": "float"
        },
        {
         "name": "('High', 'AMD')",
         "rawType": "float64",
         "type": "float"
        },
        {
         "name": "('High', 'GME')",
         "rawType": "float64",
         "type": "float"
        },
        {
         "name": "('High', 'SPY')",
         "rawType": "float64",
         "type": "float"
        },
        {
         "name": "('High', 'TSLA')",
         "rawType": "float64",
         "type": "float"
        },
        {
         "name": "('Low', 'AAPL')",
         "rawType": "float64",
         "type": "float"
        },
        {
         "name": "('Low', 'AMD')",
         "rawType": "float64",
         "type": "float"
        },
        {
         "name": "('Low', 'GME')",
         "rawType": "float64",
         "type": "float"
        },
        {
         "name": "('Low', 'SPY')",
         "rawType": "float64",
         "type": "float"
        },
        {
         "name": "('Low', 'TSLA')",
         "rawType": "float64",
         "type": "float"
        },
        {
         "name": "('Open', 'AAPL')",
         "rawType": "float64",
         "type": "float"
        },
        {
         "name": "('Open', 'AMD')",
         "rawType": "float64",
         "type": "float"
        },
        {
         "name": "('Open', 'GME')",
         "rawType": "float64",
         "type": "float"
        },
        {
         "name": "('Open', 'SPY')",
         "rawType": "float64",
         "type": "float"
        },
        {
         "name": "('Open', 'TSLA')",
         "rawType": "float64",
         "type": "float"
        },
        {
         "name": "('Volume', 'AAPL')",
         "rawType": "int64",
         "type": "integer"
        },
        {
         "name": "('Volume', 'AMD')",
         "rawType": "int64",
         "type": "integer"
        },
        {
         "name": "('Volume', 'GME')",
         "rawType": "int64",
         "type": "integer"
        },
        {
         "name": "('Volume', 'SPY')",
         "rawType": "int64",
         "type": "integer"
        },
        {
         "name": "('Volume', 'TSLA')",
         "rawType": "int64",
         "type": "integer"
        }
       ],
       "conversionMethod": "pd.DataFrame",
       "ref": "a33e9ba2-f6af-4c90-b05f-5bc439f39a56",
       "rows": [
        [
         "2020-01-02 00:00:00",
         "72.71607208251953",
         "49.099998474121094",
         "1.5774999856948853",
         "301.19488525390625",
         "28.68400001525879",
         "72.77659819422657",
         "49.25",
         "1.6174999475479126",
         "301.21344584893905",
         "28.713333129882812",
         "71.46681225027338",
         "46.630001068115234",
         "1.5175000429153442",
         "299.02541765431675",
         "28.11400032043457",
         "71.72101896406637",
         "46.86000061035156",
         "1.534999966621399",
         "299.961822308594",
         "28.299999237060547",
         "135480400",
         "80331100",
         "17814400",
         "59151200",
         "142981500"
        ],
        [
         "2020-01-03 00:00:00",
         "72.00914001464844",
         "48.599998474121094",
         "1.4700000286102295",
         "298.9142150878906",
         "29.534000396728516",
         "72.77176771569704",
         "49.38999938964844",
         "1.5625",
         "300.0545884148705",
         "30.266666412353516",
         "71.78398460177141",
         "47.540000915527344",
         "1.4600000381469727",
         "297.6996842496835",
         "29.128000259399414",
         "71.94135104985396",
         "48.029998779296875",
         "1.5525000095367432",
         "297.7553094565026",
         "29.366666793823242",
         "146322800",
         "73127400",
         "14175600",
         "77709700",
         "266677500"
        ],
        [
         "2020-01-06 00:00:00",
         "72.5829086303711",
         "48.38999938964844",
         "1.462499976158142",
         "300.0545654296875",
         "30.1026668548584",
         "72.62164622763687",
         "48.86000061035156",
         "1.4774999618530273",
         "300.1380032335245",
         "30.104000091552734",
         "70.87607527260708",
         "47.86000061035156",
         "1.399999976158142",
         "297.0135701240249",
         "29.333332061767578",
         "71.12786596061405",
         "48.02000045776367",
         "1.4500000476837158",
         "297.1341008274313",
         "29.364667892456055",
         "118387200",
         "47934900",
         "13579200",
         "55653900",
         "151995000"
        ],
        [
         "2020-01-07 00:00:00",
         "72.24156951904297",
         "48.25",
         "1.3799999952316284",
         "299.2109069824219",
         "31.270666122436523",
         "72.849246825379",
         "49.38999938964844",
         "1.4574999809265137",
         "299.9618755812816",
         "31.441999435424805",
         "72.02125352456737",
         "48.040000915527344",
         "1.3600000143051147",
         "298.75659672728324",
         "30.224000930786133",
         "72.59261663147193",
         "49.349998474121094",
         "1.4424999952316284",
         "299.47975272224426",
         "30.760000228881836",
         "108872000",
         "58061400",
         "20912000",
         "40496400",
         "268231500"
        ],
        [
         "2020-01-08 00:00:00",
         "73.40364074707031",
         "47.83000183105469",
         "1.4299999475479126",
         "300.8055725097656",
         "32.80933380126953",
         "73.70627127642481",
         "48.29999923706055",
         "1.462499976158142",
         "302.03863571595645",
         "33.232666015625",
         "71.94375136900179",
         "47.13999938964844",
         "1.3524999618530273",
         "299.15529193732596",
         "31.215333938598633",
         "71.94375136900179",
         "47.849998474121094",
         "1.372499942779541",
         "299.4056053809176",
         "31.579999923706055",
         "132079200",
         "53767000",
         "22517600",
         "68296000",
         "467164500"
        ]
       ],
       "shape": {
        "columns": 25,
        "rows": 5
       }
      },
      "text/html": [
       "<div>\n",
       "<style scoped>\n",
       "    .dataframe tbody tr th:only-of-type {\n",
       "        vertical-align: middle;\n",
       "    }\n",
       "\n",
       "    .dataframe tbody tr th {\n",
       "        vertical-align: top;\n",
       "    }\n",
       "\n",
       "    .dataframe thead tr th {\n",
       "        text-align: left;\n",
       "    }\n",
       "\n",
       "    .dataframe thead tr:last-of-type th {\n",
       "        text-align: right;\n",
       "    }\n",
       "</style>\n",
       "<table border=\"1\" class=\"dataframe\">\n",
       "  <thead>\n",
       "    <tr>\n",
       "      <th>Price</th>\n",
       "      <th colspan=\"5\" halign=\"left\">Close</th>\n",
       "      <th colspan=\"5\" halign=\"left\">High</th>\n",
       "      <th>...</th>\n",
       "      <th colspan=\"5\" halign=\"left\">Open</th>\n",
       "      <th colspan=\"5\" halign=\"left\">Volume</th>\n",
       "    </tr>\n",
       "    <tr>\n",
       "      <th>Ticker</th>\n",
       "      <th>AAPL</th>\n",
       "      <th>AMD</th>\n",
       "      <th>GME</th>\n",
       "      <th>SPY</th>\n",
       "      <th>TSLA</th>\n",
       "      <th>AAPL</th>\n",
       "      <th>AMD</th>\n",
       "      <th>GME</th>\n",
       "      <th>SPY</th>\n",
       "      <th>TSLA</th>\n",
       "      <th>...</th>\n",
       "      <th>AAPL</th>\n",
       "      <th>AMD</th>\n",
       "      <th>GME</th>\n",
       "      <th>SPY</th>\n",
       "      <th>TSLA</th>\n",
       "      <th>AAPL</th>\n",
       "      <th>AMD</th>\n",
       "      <th>GME</th>\n",
       "      <th>SPY</th>\n",
       "      <th>TSLA</th>\n",
       "    </tr>\n",
       "    <tr>\n",
       "      <th>Date</th>\n",
       "      <th></th>\n",
       "      <th></th>\n",
       "      <th></th>\n",
       "      <th></th>\n",
       "      <th></th>\n",
       "      <th></th>\n",
       "      <th></th>\n",
       "      <th></th>\n",
       "      <th></th>\n",
       "      <th></th>\n",
       "      <th></th>\n",
       "      <th></th>\n",
       "      <th></th>\n",
       "      <th></th>\n",
       "      <th></th>\n",
       "      <th></th>\n",
       "      <th></th>\n",
       "      <th></th>\n",
       "      <th></th>\n",
       "      <th></th>\n",
       "      <th></th>\n",
       "    </tr>\n",
       "  </thead>\n",
       "  <tbody>\n",
       "    <tr>\n",
       "      <th>2020-01-02</th>\n",
       "      <td>72.716072</td>\n",
       "      <td>49.099998</td>\n",
       "      <td>1.5775</td>\n",
       "      <td>301.194885</td>\n",
       "      <td>28.684000</td>\n",
       "      <td>72.776598</td>\n",
       "      <td>49.250000</td>\n",
       "      <td>1.6175</td>\n",
       "      <td>301.213446</td>\n",
       "      <td>28.713333</td>\n",
       "      <td>...</td>\n",
       "      <td>71.721019</td>\n",
       "      <td>46.860001</td>\n",
       "      <td>1.5350</td>\n",
       "      <td>299.961822</td>\n",
       "      <td>28.299999</td>\n",
       "      <td>135480400</td>\n",
       "      <td>80331100</td>\n",
       "      <td>17814400</td>\n",
       "      <td>59151200</td>\n",
       "      <td>142981500</td>\n",
       "    </tr>\n",
       "    <tr>\n",
       "      <th>2020-01-03</th>\n",
       "      <td>72.009140</td>\n",
       "      <td>48.599998</td>\n",
       "      <td>1.4700</td>\n",
       "      <td>298.914215</td>\n",
       "      <td>29.534000</td>\n",
       "      <td>72.771768</td>\n",
       "      <td>49.389999</td>\n",
       "      <td>1.5625</td>\n",
       "      <td>300.054588</td>\n",
       "      <td>30.266666</td>\n",
       "      <td>...</td>\n",
       "      <td>71.941351</td>\n",
       "      <td>48.029999</td>\n",
       "      <td>1.5525</td>\n",
       "      <td>297.755309</td>\n",
       "      <td>29.366667</td>\n",
       "      <td>146322800</td>\n",
       "      <td>73127400</td>\n",
       "      <td>14175600</td>\n",
       "      <td>77709700</td>\n",
       "      <td>266677500</td>\n",
       "    </tr>\n",
       "    <tr>\n",
       "      <th>2020-01-06</th>\n",
       "      <td>72.582909</td>\n",
       "      <td>48.389999</td>\n",
       "      <td>1.4625</td>\n",
       "      <td>300.054565</td>\n",
       "      <td>30.102667</td>\n",
       "      <td>72.621646</td>\n",
       "      <td>48.860001</td>\n",
       "      <td>1.4775</td>\n",
       "      <td>300.138003</td>\n",
       "      <td>30.104000</td>\n",
       "      <td>...</td>\n",
       "      <td>71.127866</td>\n",
       "      <td>48.020000</td>\n",
       "      <td>1.4500</td>\n",
       "      <td>297.134101</td>\n",
       "      <td>29.364668</td>\n",
       "      <td>118387200</td>\n",
       "      <td>47934900</td>\n",
       "      <td>13579200</td>\n",
       "      <td>55653900</td>\n",
       "      <td>151995000</td>\n",
       "    </tr>\n",
       "    <tr>\n",
       "      <th>2020-01-07</th>\n",
       "      <td>72.241570</td>\n",
       "      <td>48.250000</td>\n",
       "      <td>1.3800</td>\n",
       "      <td>299.210907</td>\n",
       "      <td>31.270666</td>\n",
       "      <td>72.849247</td>\n",
       "      <td>49.389999</td>\n",
       "      <td>1.4575</td>\n",
       "      <td>299.961876</td>\n",
       "      <td>31.441999</td>\n",
       "      <td>...</td>\n",
       "      <td>72.592617</td>\n",
       "      <td>49.349998</td>\n",
       "      <td>1.4425</td>\n",
       "      <td>299.479753</td>\n",
       "      <td>30.760000</td>\n",
       "      <td>108872000</td>\n",
       "      <td>58061400</td>\n",
       "      <td>20912000</td>\n",
       "      <td>40496400</td>\n",
       "      <td>268231500</td>\n",
       "    </tr>\n",
       "    <tr>\n",
       "      <th>2020-01-08</th>\n",
       "      <td>73.403641</td>\n",
       "      <td>47.830002</td>\n",
       "      <td>1.4300</td>\n",
       "      <td>300.805573</td>\n",
       "      <td>32.809334</td>\n",
       "      <td>73.706271</td>\n",
       "      <td>48.299999</td>\n",
       "      <td>1.4625</td>\n",
       "      <td>302.038636</td>\n",
       "      <td>33.232666</td>\n",
       "      <td>...</td>\n",
       "      <td>71.943751</td>\n",
       "      <td>47.849998</td>\n",
       "      <td>1.3725</td>\n",
       "      <td>299.405605</td>\n",
       "      <td>31.580000</td>\n",
       "      <td>132079200</td>\n",
       "      <td>53767000</td>\n",
       "      <td>22517600</td>\n",
       "      <td>68296000</td>\n",
       "      <td>467164500</td>\n",
       "    </tr>\n",
       "  </tbody>\n",
       "</table>\n",
       "<p>5 rows × 25 columns</p>\n",
       "</div>"
      ],
      "text/plain": [
       "Price           Close                                                 High  \\\n",
       "Ticker           AAPL        AMD     GME         SPY       TSLA       AAPL   \n",
       "Date                                                                         \n",
       "2020-01-02  72.716072  49.099998  1.5775  301.194885  28.684000  72.776598   \n",
       "2020-01-03  72.009140  48.599998  1.4700  298.914215  29.534000  72.771768   \n",
       "2020-01-06  72.582909  48.389999  1.4625  300.054565  30.102667  72.621646   \n",
       "2020-01-07  72.241570  48.250000  1.3800  299.210907  31.270666  72.849247   \n",
       "2020-01-08  73.403641  47.830002  1.4300  300.805573  32.809334  73.706271   \n",
       "\n",
       "Price                                                 ...       Open  \\\n",
       "Ticker            AMD     GME         SPY       TSLA  ...       AAPL   \n",
       "Date                                                  ...              \n",
       "2020-01-02  49.250000  1.6175  301.213446  28.713333  ...  71.721019   \n",
       "2020-01-03  49.389999  1.5625  300.054588  30.266666  ...  71.941351   \n",
       "2020-01-06  48.860001  1.4775  300.138003  30.104000  ...  71.127866   \n",
       "2020-01-07  49.389999  1.4575  299.961876  31.441999  ...  72.592617   \n",
       "2020-01-08  48.299999  1.4625  302.038636  33.232666  ...  71.943751   \n",
       "\n",
       "Price                                                    Volume            \\\n",
       "Ticker            AMD     GME         SPY       TSLA       AAPL       AMD   \n",
       "Date                                                                        \n",
       "2020-01-02  46.860001  1.5350  299.961822  28.299999  135480400  80331100   \n",
       "2020-01-03  48.029999  1.5525  297.755309  29.366667  146322800  73127400   \n",
       "2020-01-06  48.020000  1.4500  297.134101  29.364668  118387200  47934900   \n",
       "2020-01-07  49.349998  1.4425  299.479753  30.760000  108872000  58061400   \n",
       "2020-01-08  47.849998  1.3725  299.405605  31.580000  132079200  53767000   \n",
       "\n",
       "Price                                      \n",
       "Ticker           GME       SPY       TSLA  \n",
       "Date                                       \n",
       "2020-01-02  17814400  59151200  142981500  \n",
       "2020-01-03  14175600  77709700  266677500  \n",
       "2020-01-06  13579200  55653900  151995000  \n",
       "2020-01-07  20912000  40496400  268231500  \n",
       "2020-01-08  22517600  68296000  467164500  \n",
       "\n",
       "[5 rows x 25 columns]"
      ]
     },
     "execution_count": 6,
     "metadata": {},
     "output_type": "execute_result"
    }
   ],
   "source": [
    "allstocksdata.head(5)"
   ]
  },
  {
   "cell_type": "code",
   "execution_count": 7,
   "metadata": {},
   "outputs": [],
   "source": [
    "''' \n",
    "This script selects numerical columns from the dataset `allstocksdata`,\n",
    "standardizes their values using `StandardScaler`, and updates the dataset\n",
    "with the transformed numerical data. Standardization ensures the features\n",
    "have a mean of 0 and a standard deviation of 1 for improved model performance.\n",
    "'''\n",
    "allstocksdata.ffill(inplace=True)\n",
    "numerical_cols = allstocksdata.select_dtypes(include=['float64', 'int64']).columns.tolist()\n",
    "scaler = StandardScaler()\n",
    "allstocksdata[numerical_cols] = scaler.fit_transform(allstocksdata[numerical_cols])\n",
    "\n",
    "#---------------------------------------------------\n",
    "\n",
    "''' \n",
    "Seperating th data into individual dataframes for each stock after collectiv preprocessing.\n",
    "This is done to make it easier to work with the data for each stock.\n",
    "'''\n",
    "\n",
    "stock_dataframes = {}\n",
    "for stock in allstocks:\n",
    "    stock_dataframes[stock] = allstocksdata.xs(stock, level=1, axis=1)\n",
    "\n",
    "TSLA_data = stock_dataframes[\"TSLA\"] # NASDAQ\n",
    "AMD_data = stock_dataframes[\"AMD\"]   # NASDAQ\n",
    "AAPL_data = stock_dataframes[\"AAPL\"] # NASDAQ\n",
    "GME_data = stock_dataframes[\"GME\"]   # NYSE\n",
    "SPY_data = stock_dataframes[\"SPY\"]   # ARCX"
   ]
  },
  {
   "cell_type": "markdown",
   "metadata": {},
   "source": [
    " ## _Phase 2.1: Tesla, Incorporated (NASDAQ: TSLA)_"
   ]
  },
  {
   "cell_type": "code",
   "execution_count": 8,
   "metadata": {},
   "outputs": [
    {
     "data": {
      "application/vnd.microsoft.datawrangler.viewer.v0+json": {
       "columns": [
        {
         "name": "Date",
         "rawType": "datetime64[ns]",
         "type": "datetime"
        },
        {
         "name": "Close",
         "rawType": "float64",
         "type": "float"
        },
        {
         "name": "High",
         "rawType": "float64",
         "type": "float"
        },
        {
         "name": "Low",
         "rawType": "float64",
         "type": "float"
        },
        {
         "name": "Open",
         "rawType": "float64",
         "type": "float"
        },
        {
         "name": "Volume",
         "rawType": "float64",
         "type": "float"
        }
       ],
       "conversionMethod": "pd.DataFrame",
       "ref": "175bbe51-cc9b-4dab-a9f2-b6226b4d2241",
       "rows": [
        [
         "2020-01-02 00:00:00",
         "-2.1907515898403336",
         "-2.195757914820021",
         "-2.187560307554583",
         "-2.190050587042704",
         "0.2324226017901039"
        ],
        [
         "2020-01-03 00:00:00",
         "-2.1809450627104727",
         "-2.178259010874313",
         "-2.1755871837854617",
         "-2.1777830565843375",
         "1.7593272877472736"
        ],
        [
         "2020-01-06 00:00:00",
         "-2.1743843091260446",
         "-2.1800915102838196",
         "-2.1731626638333204",
         "-2.1778060455495964",
         "0.3436853377466017"
        ],
        [
         "2020-01-07 00:00:00",
         "-2.1609090016381143",
         "-2.1650184269590382",
         "-2.1626458105315844",
         "-2.1617586071250163",
         "1.7785098796013146"
        ],
        [
         "2020-01-08 00:00:00",
         "-2.143157260973921",
         "-2.1448458710501916",
         "-2.150940333693912",
         "-2.1523279544644653",
         "4.234140861132792"
        ]
       ],
       "shape": {
        "columns": 5,
        "rows": 5
       }
      },
      "text/html": [
       "<div>\n",
       "<style scoped>\n",
       "    .dataframe tbody tr th:only-of-type {\n",
       "        vertical-align: middle;\n",
       "    }\n",
       "\n",
       "    .dataframe tbody tr th {\n",
       "        vertical-align: top;\n",
       "    }\n",
       "\n",
       "    .dataframe thead th {\n",
       "        text-align: right;\n",
       "    }\n",
       "</style>\n",
       "<table border=\"1\" class=\"dataframe\">\n",
       "  <thead>\n",
       "    <tr style=\"text-align: right;\">\n",
       "      <th>Price</th>\n",
       "      <th>Close</th>\n",
       "      <th>High</th>\n",
       "      <th>Low</th>\n",
       "      <th>Open</th>\n",
       "      <th>Volume</th>\n",
       "    </tr>\n",
       "    <tr>\n",
       "      <th>Date</th>\n",
       "      <th></th>\n",
       "      <th></th>\n",
       "      <th></th>\n",
       "      <th></th>\n",
       "      <th></th>\n",
       "    </tr>\n",
       "  </thead>\n",
       "  <tbody>\n",
       "    <tr>\n",
       "      <th>2020-01-02</th>\n",
       "      <td>-2.190752</td>\n",
       "      <td>-2.195758</td>\n",
       "      <td>-2.187560</td>\n",
       "      <td>-2.190051</td>\n",
       "      <td>0.232423</td>\n",
       "    </tr>\n",
       "    <tr>\n",
       "      <th>2020-01-03</th>\n",
       "      <td>-2.180945</td>\n",
       "      <td>-2.178259</td>\n",
       "      <td>-2.175587</td>\n",
       "      <td>-2.177783</td>\n",
       "      <td>1.759327</td>\n",
       "    </tr>\n",
       "    <tr>\n",
       "      <th>2020-01-06</th>\n",
       "      <td>-2.174384</td>\n",
       "      <td>-2.180092</td>\n",
       "      <td>-2.173163</td>\n",
       "      <td>-2.177806</td>\n",
       "      <td>0.343685</td>\n",
       "    </tr>\n",
       "    <tr>\n",
       "      <th>2020-01-07</th>\n",
       "      <td>-2.160909</td>\n",
       "      <td>-2.165018</td>\n",
       "      <td>-2.162646</td>\n",
       "      <td>-2.161759</td>\n",
       "      <td>1.778510</td>\n",
       "    </tr>\n",
       "    <tr>\n",
       "      <th>2020-01-08</th>\n",
       "      <td>-2.143157</td>\n",
       "      <td>-2.144846</td>\n",
       "      <td>-2.150940</td>\n",
       "      <td>-2.152328</td>\n",
       "      <td>4.234141</td>\n",
       "    </tr>\n",
       "  </tbody>\n",
       "</table>\n",
       "</div>"
      ],
      "text/plain": [
       "Price          Close      High       Low      Open    Volume\n",
       "Date                                                        \n",
       "2020-01-02 -2.190752 -2.195758 -2.187560 -2.190051  0.232423\n",
       "2020-01-03 -2.180945 -2.178259 -2.175587 -2.177783  1.759327\n",
       "2020-01-06 -2.174384 -2.180092 -2.173163 -2.177806  0.343685\n",
       "2020-01-07 -2.160909 -2.165018 -2.162646 -2.161759  1.778510\n",
       "2020-01-08 -2.143157 -2.144846 -2.150940 -2.152328  4.234141"
      ]
     },
     "execution_count": 8,
     "metadata": {},
     "output_type": "execute_result"
    }
   ],
   "source": [
    "TSLA_data.head(5)"
   ]
  },
  {
   "cell_type": "code",
   "execution_count": 9,
   "metadata": {},
   "outputs": [
    {
     "name": "stdout",
     "output_type": "stream",
     "text": [
      "<class 'pandas.core.frame.DataFrame'>\n",
      "DatetimeIndex: 1307 entries, 2020-01-02 to 2025-03-14\n",
      "Data columns (total 5 columns):\n",
      " #   Column  Non-Null Count  Dtype  \n",
      "---  ------  --------------  -----  \n",
      " 0   Close   1307 non-null   float64\n",
      " 1   High    1307 non-null   float64\n",
      " 2   Low     1307 non-null   float64\n",
      " 3   Open    1307 non-null   float64\n",
      " 4   Volume  1307 non-null   float64\n",
      "dtypes: float64(5)\n",
      "memory usage: 61.3 KB\n"
     ]
    }
   ],
   "source": [
    "TSLA_data.info() #shows that date is already the index"
   ]
  },
  {
   "cell_type": "markdown",
   "metadata": {},
   "source": [
    " ## _Phase 2.2: GameStop Corporation (NYSE: GME)_"
   ]
  },
  {
   "cell_type": "code",
   "execution_count": 10,
   "metadata": {},
   "outputs": [
    {
     "data": {
      "application/vnd.microsoft.datawrangler.viewer.v0+json": {
       "columns": [
        {
         "name": "Date",
         "rawType": "datetime64[ns]",
         "type": "datetime"
        },
        {
         "name": "Close",
         "rawType": "float64",
         "type": "float"
        },
        {
         "name": "High",
         "rawType": "float64",
         "type": "float"
        },
        {
         "name": "Low",
         "rawType": "float64",
         "type": "float"
        },
        {
         "name": "Open",
         "rawType": "float64",
         "type": "float"
        },
        {
         "name": "Volume",
         "rawType": "float64",
         "type": "float"
        }
       ],
       "conversionMethod": "pd.DataFrame",
       "ref": "e42af6ce-094f-4ca2-9718-c5309e4e9695",
       "rows": [
        [
         "2020-01-02 00:00:00",
         "-1.407480853403797",
         "-1.3702690022608528",
         "-1.4262569729500358",
         "-1.396095998725541",
         "-0.09171273201295096"
        ],
        [
         "2020-01-03 00:00:00",
         "-1.414576024565808",
         "-1.37362253822025",
         "-1.430276399685508",
         "-1.3949565116870863",
         "-0.15467046770581708"
        ],
        [
         "2020-01-06 00:00:00",
         "-1.4150710401668813",
         "-1.378805282880646",
         "-1.434470588090524",
         "-1.4016306312043143",
         "-0.1649892523510917"
        ],
        [
         "2020-01-07 00:00:00",
         "-1.420516172438658",
         "-1.380024750502245",
         "-1.4372667081384713",
         "-1.402118985009972",
         "-0.038118722426762654"
        ],
        [
         "2020-01-08 00:00:00",
         "-1.417216094658189",
         "-1.3797198835968452",
         "-1.4377909848140091",
         "-1.4066769254016704",
         "-0.010338976238880436"
        ]
       ],
       "shape": {
        "columns": 5,
        "rows": 5
       }
      },
      "text/html": [
       "<div>\n",
       "<style scoped>\n",
       "    .dataframe tbody tr th:only-of-type {\n",
       "        vertical-align: middle;\n",
       "    }\n",
       "\n",
       "    .dataframe tbody tr th {\n",
       "        vertical-align: top;\n",
       "    }\n",
       "\n",
       "    .dataframe thead th {\n",
       "        text-align: right;\n",
       "    }\n",
       "</style>\n",
       "<table border=\"1\" class=\"dataframe\">\n",
       "  <thead>\n",
       "    <tr style=\"text-align: right;\">\n",
       "      <th>Price</th>\n",
       "      <th>Close</th>\n",
       "      <th>High</th>\n",
       "      <th>Low</th>\n",
       "      <th>Open</th>\n",
       "      <th>Volume</th>\n",
       "    </tr>\n",
       "    <tr>\n",
       "      <th>Date</th>\n",
       "      <th></th>\n",
       "      <th></th>\n",
       "      <th></th>\n",
       "      <th></th>\n",
       "      <th></th>\n",
       "    </tr>\n",
       "  </thead>\n",
       "  <tbody>\n",
       "    <tr>\n",
       "      <th>2020-01-02</th>\n",
       "      <td>-1.407481</td>\n",
       "      <td>-1.370269</td>\n",
       "      <td>-1.426257</td>\n",
       "      <td>-1.396096</td>\n",
       "      <td>-0.091713</td>\n",
       "    </tr>\n",
       "    <tr>\n",
       "      <th>2020-01-03</th>\n",
       "      <td>-1.414576</td>\n",
       "      <td>-1.373623</td>\n",
       "      <td>-1.430276</td>\n",
       "      <td>-1.394957</td>\n",
       "      <td>-0.154670</td>\n",
       "    </tr>\n",
       "    <tr>\n",
       "      <th>2020-01-06</th>\n",
       "      <td>-1.415071</td>\n",
       "      <td>-1.378805</td>\n",
       "      <td>-1.434471</td>\n",
       "      <td>-1.401631</td>\n",
       "      <td>-0.164989</td>\n",
       "    </tr>\n",
       "    <tr>\n",
       "      <th>2020-01-07</th>\n",
       "      <td>-1.420516</td>\n",
       "      <td>-1.380025</td>\n",
       "      <td>-1.437267</td>\n",
       "      <td>-1.402119</td>\n",
       "      <td>-0.038119</td>\n",
       "    </tr>\n",
       "    <tr>\n",
       "      <th>2020-01-08</th>\n",
       "      <td>-1.417216</td>\n",
       "      <td>-1.379720</td>\n",
       "      <td>-1.437791</td>\n",
       "      <td>-1.406677</td>\n",
       "      <td>-0.010339</td>\n",
       "    </tr>\n",
       "  </tbody>\n",
       "</table>\n",
       "</div>"
      ],
      "text/plain": [
       "Price          Close      High       Low      Open    Volume\n",
       "Date                                                        \n",
       "2020-01-02 -1.407481 -1.370269 -1.426257 -1.396096 -0.091713\n",
       "2020-01-03 -1.414576 -1.373623 -1.430276 -1.394957 -0.154670\n",
       "2020-01-06 -1.415071 -1.378805 -1.434471 -1.401631 -0.164989\n",
       "2020-01-07 -1.420516 -1.380025 -1.437267 -1.402119 -0.038119\n",
       "2020-01-08 -1.417216 -1.379720 -1.437791 -1.406677 -0.010339"
      ]
     },
     "execution_count": 10,
     "metadata": {},
     "output_type": "execute_result"
    }
   ],
   "source": [
    "GME_data.head(5)"
   ]
  },
  {
   "cell_type": "markdown",
   "metadata": {},
   "source": [
    " ## _Phase 2.3: Advanced Micro Devices, Incorporated (NASDAQ: AMD)_"
   ]
  },
  {
   "cell_type": "code",
   "execution_count": 11,
   "metadata": {},
   "outputs": [
    {
     "data": {
      "application/vnd.microsoft.datawrangler.viewer.v0+json": {
       "columns": [
        {
         "name": "Date",
         "rawType": "datetime64[ns]",
         "type": "datetime"
        },
        {
         "name": "Close",
         "rawType": "float64",
         "type": "float"
        },
        {
         "name": "High",
         "rawType": "float64",
         "type": "float"
        },
        {
         "name": "Low",
         "rawType": "float64",
         "type": "float"
        },
        {
         "name": "Open",
         "rawType": "float64",
         "type": "float"
        },
        {
         "name": "Volume",
         "rawType": "float64",
         "type": "float"
        }
       ],
       "conversionMethod": "pd.DataFrame",
       "ref": "8bf28f48-ea41-4c67-a458-650005013ede",
       "rows": [
        [
         "2020-01-02 00:00:00",
         "-1.5505852443502395",
         "-1.573854471221699",
         "-1.5905726343811248",
         "-1.610042459632273",
         "0.6054694821935855"
        ],
        [
         "2020-01-03 00:00:00",
         "-1.5647157436329713",
         "-1.569974505267174",
         "-1.5643768613571591",
         "-1.5770977938748236",
         "0.3557106683118033"
        ],
        [
         "2020-01-06 00:00:00",
         "-1.5706505274580016",
         "-1.584662978015345",
         "-1.5551651681934817",
         "-1.5773793253932396",
         "-0.5177361602230883"
        ],
        [
         "2020-01-07 00:00:00",
         "-1.5746070500080218",
         "-1.569974505267174",
         "-1.5499835770624075",
         "-1.5399294034446744",
         "-0.16664121890489517"
        ],
        [
         "2020-01-08 00:00:00",
         "-1.5864766176580825",
         "-1.600182947554588",
         "-1.575891532717778",
         "-1.5821662205165514",
         "-0.3155319625968765"
        ]
       ],
       "shape": {
        "columns": 5,
        "rows": 5
       }
      },
      "text/html": [
       "<div>\n",
       "<style scoped>\n",
       "    .dataframe tbody tr th:only-of-type {\n",
       "        vertical-align: middle;\n",
       "    }\n",
       "\n",
       "    .dataframe tbody tr th {\n",
       "        vertical-align: top;\n",
       "    }\n",
       "\n",
       "    .dataframe thead th {\n",
       "        text-align: right;\n",
       "    }\n",
       "</style>\n",
       "<table border=\"1\" class=\"dataframe\">\n",
       "  <thead>\n",
       "    <tr style=\"text-align: right;\">\n",
       "      <th>Price</th>\n",
       "      <th>Close</th>\n",
       "      <th>High</th>\n",
       "      <th>Low</th>\n",
       "      <th>Open</th>\n",
       "      <th>Volume</th>\n",
       "    </tr>\n",
       "    <tr>\n",
       "      <th>Date</th>\n",
       "      <th></th>\n",
       "      <th></th>\n",
       "      <th></th>\n",
       "      <th></th>\n",
       "      <th></th>\n",
       "    </tr>\n",
       "  </thead>\n",
       "  <tbody>\n",
       "    <tr>\n",
       "      <th>2020-01-02</th>\n",
       "      <td>-1.550585</td>\n",
       "      <td>-1.573854</td>\n",
       "      <td>-1.590573</td>\n",
       "      <td>-1.610042</td>\n",
       "      <td>0.605469</td>\n",
       "    </tr>\n",
       "    <tr>\n",
       "      <th>2020-01-03</th>\n",
       "      <td>-1.564716</td>\n",
       "      <td>-1.569975</td>\n",
       "      <td>-1.564377</td>\n",
       "      <td>-1.577098</td>\n",
       "      <td>0.355711</td>\n",
       "    </tr>\n",
       "    <tr>\n",
       "      <th>2020-01-06</th>\n",
       "      <td>-1.570651</td>\n",
       "      <td>-1.584663</td>\n",
       "      <td>-1.555165</td>\n",
       "      <td>-1.577379</td>\n",
       "      <td>-0.517736</td>\n",
       "    </tr>\n",
       "    <tr>\n",
       "      <th>2020-01-07</th>\n",
       "      <td>-1.574607</td>\n",
       "      <td>-1.569975</td>\n",
       "      <td>-1.549984</td>\n",
       "      <td>-1.539929</td>\n",
       "      <td>-0.166641</td>\n",
       "    </tr>\n",
       "    <tr>\n",
       "      <th>2020-01-08</th>\n",
       "      <td>-1.586477</td>\n",
       "      <td>-1.600183</td>\n",
       "      <td>-1.575892</td>\n",
       "      <td>-1.582166</td>\n",
       "      <td>-0.315532</td>\n",
       "    </tr>\n",
       "  </tbody>\n",
       "</table>\n",
       "</div>"
      ],
      "text/plain": [
       "Price          Close      High       Low      Open    Volume\n",
       "Date                                                        \n",
       "2020-01-02 -1.550585 -1.573854 -1.590573 -1.610042  0.605469\n",
       "2020-01-03 -1.564716 -1.569975 -1.564377 -1.577098  0.355711\n",
       "2020-01-06 -1.570651 -1.584663 -1.555165 -1.577379 -0.517736\n",
       "2020-01-07 -1.574607 -1.569975 -1.549984 -1.539929 -0.166641\n",
       "2020-01-08 -1.586477 -1.600183 -1.575892 -1.582166 -0.315532"
      ]
     },
     "execution_count": 11,
     "metadata": {},
     "output_type": "execute_result"
    }
   ],
   "source": [
    "AMD_data.head(5)"
   ]
  },
  {
   "cell_type": "markdown",
   "metadata": {},
   "source": [
    " ## _Phase 2.4: Apple, Incorporated (NASDAQ: AAPL)_"
   ]
  },
  {
   "cell_type": "code",
   "execution_count": 12,
   "metadata": {},
   "outputs": [
    {
     "data": {
      "application/vnd.microsoft.datawrangler.viewer.v0+json": {
       "columns": [
        {
         "name": "Date",
         "rawType": "datetime64[ns]",
         "type": "datetime"
        },
        {
         "name": "Close",
         "rawType": "float64",
         "type": "float"
        },
        {
         "name": "High",
         "rawType": "float64",
         "type": "float"
        },
        {
         "name": "Low",
         "rawType": "float64",
         "type": "float"
        },
        {
         "name": "Open",
         "rawType": "float64",
         "type": "float"
        },
        {
         "name": "Volume",
         "rawType": "float64",
         "type": "float"
        }
       ],
       "conversionMethod": "pd.DataFrame",
       "ref": "b3d1264f-5a9f-49be-b6ec-a0ea3e942b56",
       "rows": [
        [
         "2020-01-02 00:00:00",
         "-1.869401093442613",
         "-1.8944800908217447",
         "-1.8702334194468362",
         "-1.8900688583092489",
         "0.8768840658954232"
        ],
        [
         "2020-01-03 00:00:00",
         "-1.88541059368713",
         "-1.89458894746907",
         "-1.863003244381838",
         "-1.8850754492421151",
         "1.0822898378752277"
        ],
        [
         "2020-01-06 00:00:00",
         "-1.8724167726239964",
         "-1.8979719915674593",
         "-1.8836996996749906",
         "-1.9035115467631305",
         "0.5530589034216912"
        ],
        [
         "2020-01-07 00:00:00",
         "-1.8801468910252277",
         "-1.8928429266419053",
         "-1.857594526247373",
         "-1.8703157493611888",
         "0.3727965074999179"
        ],
        [
         "2020-01-08 00:00:00",
         "-1.8538301055025739",
         "-1.8735295588572498",
         "-1.8593612444055203",
         "-1.8850210505586282",
         "0.8124494285773285"
        ]
       ],
       "shape": {
        "columns": 5,
        "rows": 5
       }
      },
      "text/html": [
       "<div>\n",
       "<style scoped>\n",
       "    .dataframe tbody tr th:only-of-type {\n",
       "        vertical-align: middle;\n",
       "    }\n",
       "\n",
       "    .dataframe tbody tr th {\n",
       "        vertical-align: top;\n",
       "    }\n",
       "\n",
       "    .dataframe thead th {\n",
       "        text-align: right;\n",
       "    }\n",
       "</style>\n",
       "<table border=\"1\" class=\"dataframe\">\n",
       "  <thead>\n",
       "    <tr style=\"text-align: right;\">\n",
       "      <th>Price</th>\n",
       "      <th>Close</th>\n",
       "      <th>High</th>\n",
       "      <th>Low</th>\n",
       "      <th>Open</th>\n",
       "      <th>Volume</th>\n",
       "    </tr>\n",
       "    <tr>\n",
       "      <th>Date</th>\n",
       "      <th></th>\n",
       "      <th></th>\n",
       "      <th></th>\n",
       "      <th></th>\n",
       "      <th></th>\n",
       "    </tr>\n",
       "  </thead>\n",
       "  <tbody>\n",
       "    <tr>\n",
       "      <th>2020-01-02</th>\n",
       "      <td>-1.869401</td>\n",
       "      <td>-1.894480</td>\n",
       "      <td>-1.870233</td>\n",
       "      <td>-1.890069</td>\n",
       "      <td>0.876884</td>\n",
       "    </tr>\n",
       "    <tr>\n",
       "      <th>2020-01-03</th>\n",
       "      <td>-1.885411</td>\n",
       "      <td>-1.894589</td>\n",
       "      <td>-1.863003</td>\n",
       "      <td>-1.885075</td>\n",
       "      <td>1.082290</td>\n",
       "    </tr>\n",
       "    <tr>\n",
       "      <th>2020-01-06</th>\n",
       "      <td>-1.872417</td>\n",
       "      <td>-1.897972</td>\n",
       "      <td>-1.883700</td>\n",
       "      <td>-1.903512</td>\n",
       "      <td>0.553059</td>\n",
       "    </tr>\n",
       "    <tr>\n",
       "      <th>2020-01-07</th>\n",
       "      <td>-1.880147</td>\n",
       "      <td>-1.892843</td>\n",
       "      <td>-1.857595</td>\n",
       "      <td>-1.870316</td>\n",
       "      <td>0.372797</td>\n",
       "    </tr>\n",
       "    <tr>\n",
       "      <th>2020-01-08</th>\n",
       "      <td>-1.853830</td>\n",
       "      <td>-1.873530</td>\n",
       "      <td>-1.859361</td>\n",
       "      <td>-1.885021</td>\n",
       "      <td>0.812449</td>\n",
       "    </tr>\n",
       "  </tbody>\n",
       "</table>\n",
       "</div>"
      ],
      "text/plain": [
       "Price          Close      High       Low      Open    Volume\n",
       "Date                                                        \n",
       "2020-01-02 -1.869401 -1.894480 -1.870233 -1.890069  0.876884\n",
       "2020-01-03 -1.885411 -1.894589 -1.863003 -1.885075  1.082290\n",
       "2020-01-06 -1.872417 -1.897972 -1.883700 -1.903512  0.553059\n",
       "2020-01-07 -1.880147 -1.892843 -1.857595 -1.870316  0.372797\n",
       "2020-01-08 -1.853830 -1.873530 -1.859361 -1.885021  0.812449"
      ]
     },
     "execution_count": 12,
     "metadata": {},
     "output_type": "execute_result"
    }
   ],
   "source": [
    "AAPL_data.head(5)"
   ]
  },
  {
   "cell_type": "markdown",
   "metadata": {},
   "source": [
    " ## _Phase 2.5: SPDR S&P 500 ETF Trust (ARCX: SPY)_"
   ]
  },
  {
   "cell_type": "code",
   "execution_count": 13,
   "metadata": {},
   "outputs": [
    {
     "data": {
      "application/vnd.microsoft.datawrangler.viewer.v0+json": {
       "columns": [
        {
         "name": "Date",
         "rawType": "datetime64[ns]",
         "type": "datetime"
        },
        {
         "name": "Close",
         "rawType": "float64",
         "type": "float"
        },
        {
         "name": "High",
         "rawType": "float64",
         "type": "float"
        },
        {
         "name": "Low",
         "rawType": "float64",
         "type": "float"
        },
        {
         "name": "Open",
         "rawType": "float64",
         "type": "float"
        },
        {
         "name": "Volume",
         "rawType": "float64",
         "type": "float"
        }
       ],
       "conversionMethod": "pd.DataFrame",
       "ref": "cd3c3e68-6991-4b85-a948-cc56d7e23440",
       "rows": [
        [
         "2020-01-02 00:00:00",
         "-1.3364566807332332",
         "-1.3660678689221877",
         "-1.3287598456936278",
         "-1.3488546333221512",
         "-0.5206989102664463"
        ],
        [
         "2020-01-03 00:00:00",
         "-1.362623831662467",
         "-1.379382425646016",
         "-1.3439606804830004",
         "-1.374148906253404",
         "-0.07103512001036025"
        ],
        [
         "2020-01-06 00:00:00",
         "-1.3495400811269247",
         "-1.3784240408594794",
         "-1.3518276524053658",
         "-1.3812701068374316",
         "-0.605436856418485"
        ],
        [
         "2020-01-07 00:00:00",
         "-1.3592197525898484",
         "-1.380447638885847",
         "-1.3318421414896615",
         "-1.354380818985393",
         "-0.9726960045612025"
        ],
        [
         "2020-01-08 00:00:00",
         "-1.3409234403227617",
         "-1.3565869466194689",
         "-1.3272707095577263",
         "-1.3552308041041585",
         "-0.2991246758652902"
        ]
       ],
       "shape": {
        "columns": 5,
        "rows": 5
       }
      },
      "text/html": [
       "<div>\n",
       "<style scoped>\n",
       "    .dataframe tbody tr th:only-of-type {\n",
       "        vertical-align: middle;\n",
       "    }\n",
       "\n",
       "    .dataframe tbody tr th {\n",
       "        vertical-align: top;\n",
       "    }\n",
       "\n",
       "    .dataframe thead th {\n",
       "        text-align: right;\n",
       "    }\n",
       "</style>\n",
       "<table border=\"1\" class=\"dataframe\">\n",
       "  <thead>\n",
       "    <tr style=\"text-align: right;\">\n",
       "      <th>Price</th>\n",
       "      <th>Close</th>\n",
       "      <th>High</th>\n",
       "      <th>Low</th>\n",
       "      <th>Open</th>\n",
       "      <th>Volume</th>\n",
       "    </tr>\n",
       "    <tr>\n",
       "      <th>Date</th>\n",
       "      <th></th>\n",
       "      <th></th>\n",
       "      <th></th>\n",
       "      <th></th>\n",
       "      <th></th>\n",
       "    </tr>\n",
       "  </thead>\n",
       "  <tbody>\n",
       "    <tr>\n",
       "      <th>2020-01-02</th>\n",
       "      <td>-1.336457</td>\n",
       "      <td>-1.366068</td>\n",
       "      <td>-1.328760</td>\n",
       "      <td>-1.348855</td>\n",
       "      <td>-0.520699</td>\n",
       "    </tr>\n",
       "    <tr>\n",
       "      <th>2020-01-03</th>\n",
       "      <td>-1.362624</td>\n",
       "      <td>-1.379382</td>\n",
       "      <td>-1.343961</td>\n",
       "      <td>-1.374149</td>\n",
       "      <td>-0.071035</td>\n",
       "    </tr>\n",
       "    <tr>\n",
       "      <th>2020-01-06</th>\n",
       "      <td>-1.349540</td>\n",
       "      <td>-1.378424</td>\n",
       "      <td>-1.351828</td>\n",
       "      <td>-1.381270</td>\n",
       "      <td>-0.605437</td>\n",
       "    </tr>\n",
       "    <tr>\n",
       "      <th>2020-01-07</th>\n",
       "      <td>-1.359220</td>\n",
       "      <td>-1.380448</td>\n",
       "      <td>-1.331842</td>\n",
       "      <td>-1.354381</td>\n",
       "      <td>-0.972696</td>\n",
       "    </tr>\n",
       "    <tr>\n",
       "      <th>2020-01-08</th>\n",
       "      <td>-1.340923</td>\n",
       "      <td>-1.356587</td>\n",
       "      <td>-1.327271</td>\n",
       "      <td>-1.355231</td>\n",
       "      <td>-0.299125</td>\n",
       "    </tr>\n",
       "  </tbody>\n",
       "</table>\n",
       "</div>"
      ],
      "text/plain": [
       "Price          Close      High       Low      Open    Volume\n",
       "Date                                                        \n",
       "2020-01-02 -1.336457 -1.366068 -1.328760 -1.348855 -0.520699\n",
       "2020-01-03 -1.362624 -1.379382 -1.343961 -1.374149 -0.071035\n",
       "2020-01-06 -1.349540 -1.378424 -1.351828 -1.381270 -0.605437\n",
       "2020-01-07 -1.359220 -1.380448 -1.331842 -1.354381 -0.972696\n",
       "2020-01-08 -1.340923 -1.356587 -1.327271 -1.355231 -0.299125"
      ]
     },
     "execution_count": 13,
     "metadata": {},
     "output_type": "execute_result"
    }
   ],
   "source": [
    "SPY_data.head(5)"
   ]
  },
  {
   "cell_type": "markdown",
   "metadata": {},
   "source": [
    " # <strong> Phase 3: Stock Vars. Prediction Modeling\n",
    " ***"
   ]
  },
  {
   "cell_type": "code",
   "execution_count": 14,
   "metadata": {},
   "outputs": [],
   "source": [
    "''' \n",
    "Have to move it here due to constant .py file changes.\n",
    "'''\n",
    "\n",
    "from Models.RY_MachineLearningModels import (\n",
    "    LinearReg_model,\n",
    "    AuReg_model,\n",
    "    MovAve_model,\n",
    "    ARIMA_model,\n",
    "    SARIMA_model,\n",
    "    GARCH_model,\n",
    "    LSTM_model\n",
    ")\n",
    "\n",
    "from Models.RY_MLEvaluation import (\n",
    "    LinearReg_eval,\n",
    "    AuReg_eval,\n",
    "    MovAve_eval,\n",
    "    ARIMA_eval,\n",
    "    SARIMA_eval,\n",
    "    GARCH_eval,\n",
    "    LSTM_eval\n",
    ")\n",
    "\n",
    "LinearReg_model = LinearReg_model()\n",
    "AuReg_model = AuReg_model()\n",
    "MovAve_model = MovAve_model()\n",
    "ARIMA_model = ARIMA_model()\n",
    "SARIMA_model = SARIMA_model()\n",
    "GARCH_model = GARCH_model()"
   ]
  },
  {
   "cell_type": "markdown",
   "metadata": {},
   "source": [
    " ## _Phase 3.1: Tesla, Incorporated (NASDAQ: TSLA)_"
   ]
  },
  {
   "cell_type": "code",
   "execution_count": null,
   "metadata": {},
   "outputs": [],
   "source": [
    "train_data = TSLA_data['Close'][:int(len(TSLA_data)*0.8)]\n",
    "test_data = TSLA_data['Close'][int(len(TSLA_data)*0.8):]\n",
    "train_data = pd.DataFrame(train_data)\n",
    "test_data = pd.DataFrame(test_data)\n",
    "\n",
    "X_train = train_data.values[:-1].reshape(-1,1)\n",
    "y_train = train_data.values[1:]\n",
    "X_test = test_data.values[:-1].reshape(-1,1)\n",
    "y_test = test_data.values[1:]\n",
    "\n",
    "#---------------------------------------------------\n",
    "\n",
    "LinearReg_model.fit(X_train, y_train)\n",
    "TSLA_LR_pred = LinearReg_model.predict(X_test)\n",
    "\n",
    "#---------------------------------------------------\n",
    "\n",
    "close_series = train_data['Close']\n",
    "AuReg_model.fit(train_data['Close'], lags=3)\n",
    "TSLA_AR_pred = AuReg_model.predict(steps=10)\n",
    "\n",
    "    # cant fix the valuewarnin rn, will fix later. suppress now.\n",
    "\n",
    "import warnings\n",
    "warnings.filterwarnings(\"ignore\")\n",
    "\n",
    "#---------------------------------------------------\n",
    "\n",
    "MovAve_model.fit(train_data['Close'], window_size=5)\n",
    "TSLA_MovAve_pred = MovAve_model.predict()\n",
    "\n",
    "#---------------------------------------------------\n",
    "\n",
    "ARIMA_model.fit(train_data['Close'], order=(1, 1, 1))\n",
    "TSLA_ARIMA_pred = ARIMA_model.predict(steps=10)\n",
    "\n",
    "#---------------------------------------------------\n",
    "\n",
    "SARIMA_model.fit(train_data['Close'], order=(1, 1, 1), seasonal_order=(1, 1, 1, 12))\n",
    "TSLA_SARIMA_pred = SARIMA_model.predict(steps=10)\n",
    "\n",
    "#---------------------------------------------------\n",
    "\n",
    "GARCH_model.fit(train_data['Close'])\n",
    "TSLA_GARCH_pred = GARCH_model.predict(steps=10)"
   ]
  },
  {
   "cell_type": "code",
   "execution_count": null,
   "metadata": {},
   "outputs": [],
   "source": []
  },
  {
   "cell_type": "markdown",
   "metadata": {},
   "source": [
    " ## _Phase 3.2: GameStop Corporation (NYSE: GME)_"
   ]
  },
  {
   "cell_type": "code",
   "execution_count": null,
   "metadata": {},
   "outputs": [],
   "source": [
    "train_data = GME_data['Close'][:int(len(GME_data)*0.8)]\n",
    "test_data = GME_data['Close'][int(len(GME_data)*0.8):]\n",
    "train_data = pd.DataFrame(train_data)\n",
    "test_data = pd.DataFrame(test_data)\n",
    "\n",
    "X_train = train_data.values[:-1].reshape(-1,1)\n",
    "y_train = train_data.values[1:]\n",
    "X_test = test_data.values[:-1].reshape(-1,1)\n",
    "y_test = test_data.values[1:]\n",
    "\n",
    "#---------------------------------------------------\n",
    "\n",
    "LinearReg_model.fit(X_train, y_train)\n",
    "GME_LR_pred = LinearReg_model.predict(X_test)\n",
    "\n",
    "#---------------------------------------------------\n",
    "\n",
    "close_series = train_data['Close']\n",
    "AuReg_model.fit(train_data['Close'], lags=3)\n",
    "GME_AR_pred = AuReg_model.predict(steps=10)\n",
    "\n",
    "    # cant fix the valuewarnin rn, will fix later. suppress now.\n",
    "\n",
    "import warnings\n",
    "warnings.filterwarnings(\"ignore\")\n",
    "\n",
    "#---------------------------------------------------\n",
    "\n",
    "MovAve_model.fit(train_data['Close'], window_size=5)\n",
    "GME_MovAve_pred = MovAve_model.predict()\n",
    "\n",
    "#---------------------------------------------------\n",
    "\n",
    "ARIMA_model.fit(train_data['Close'], order=(1, 1, 1))\n",
    "GME_ARIMA_pred = ARIMA_model.predict(steps=10)\n",
    "\n",
    "#---------------------------------------------------\n",
    "\n",
    "SARIMA_model.fit(train_data['Close'], order=(1, 1, 1), seasonal_order=(1, 1, 1, 12))\n",
    "GME_SARIMA_pred = SARIMA_model.predict(steps=10)\n",
    "\n",
    "#---------------------------------------------------\n",
    "\n",
    "GARCH_model.fit(train_data['Close'])\n",
    "GME_GARCH_pred = GARCH_model.predict(steps=10)"
   ]
  },
  {
   "cell_type": "code",
   "execution_count": null,
   "metadata": {},
   "outputs": [],
   "source": []
  },
  {
   "cell_type": "markdown",
   "metadata": {},
   "source": [
    " ## _Phase 3.3: Advanced Micro Devices, Incorporated (NASDAQ: AMD)_"
   ]
  },
  {
   "cell_type": "code",
   "execution_count": 26,
   "metadata": {},
   "outputs": [],
   "source": [
    "train_data = AMD_data['Close'][:int(len(AMD_data)*0.8)]\n",
    "test_data = AMD_data['Close'][int(len(AMD_data)*0.8):]\n",
    "train_data = pd.DataFrame(train_data)\n",
    "test_data = pd.DataFrame(test_data)\n",
    "\n",
    "X_train = train_data.values[:-1].reshape(-1,1)\n",
    "y_train = train_data.values[1:]\n",
    "X_test = test_data.values[:-1].reshape(-1,1)\n",
    "y_test = test_data.values[1:]\n",
    "\n",
    "#---------------------------------------------------\n",
    "\n",
    "LinearReg_model.fit(X_train, y_train)\n",
    "AMD_LR_pred = LinearReg_model.predict(X_test)\n",
    "\n",
    "#---------------------------------------------------\n",
    "\n",
    "close_series = train_data['Close']\n",
    "AuReg_model.fit(train_data['Close'], lags=3)\n",
    "AMD_AR_pred = AuReg_model.predict(steps=10)\n",
    "\n",
    "    # cant fix the valuewarnin rn, will fix later. suppress now.\n",
    "\n",
    "import warnings\n",
    "warnings.filterwarnings(\"ignore\")\n",
    "\n",
    "#---------------------------------------------------\n",
    "\n",
    "MovAve_model.fit(train_data['Close'], window_size=5)\n",
    "AMD_MovAve_pred = MovAve_model.predict()\n",
    "\n",
    "#---------------------------------------------------\n",
    "\n",
    "ARIMA_model.fit(train_data['Close'], order=(1, 1, 1))\n",
    "AMD_ARIMA_pred = ARIMA_model.predict(steps=10)\n",
    "\n",
    "#---------------------------------------------------\n",
    "\n",
    "SARIMA_model.fit(train_data['Close'], order=(1, 1, 1), seasonal_order=(1, 1, 1, 12))\n",
    "AMD_SARIMA_pred = SARIMA_model.predict(steps=10)\n",
    "\n",
    "#---------------------------------------------------\n",
    "\n",
    "GARCH_model.fit(train_data['Close'])\n",
    "AMD_GARCH_pred = GARCH_model.predict(steps=10)"
   ]
  },
  {
   "cell_type": "code",
   "execution_count": null,
   "metadata": {},
   "outputs": [],
   "source": []
  },
  {
   "cell_type": "markdown",
   "metadata": {},
   "source": [
    " ## _Phase 3.4: Apple, Incorporated (NASDAQ: AAPL)_"
   ]
  },
  {
   "cell_type": "code",
   "execution_count": 27,
   "metadata": {},
   "outputs": [],
   "source": [
    "train_data = AAPL_data['Close'][:int(len(AAPL_data)*0.8)]\n",
    "test_data = AAPL_data['Close'][int(len(AAPL_data)*0.8):]\n",
    "train_data = pd.DataFrame(train_data)\n",
    "test_data = pd.DataFrame(test_data)\n",
    "\n",
    "X_train = train_data.values[:-1].reshape(-1,1)\n",
    "y_train = train_data.values[1:]\n",
    "X_test = test_data.values[:-1].reshape(-1,1)\n",
    "y_test = test_data.values[1:]\n",
    "\n",
    "#---------------------------------------------------\n",
    "\n",
    "LinearReg_model.fit(X_train, y_train)\n",
    "AAPL_LR_pred = LinearReg_model.predict(X_test)\n",
    "\n",
    "#---------------------------------------------------\n",
    "\n",
    "close_series = train_data['Close']\n",
    "AuReg_model.fit(train_data['Close'], lags=3)\n",
    "AAPL_AR_pred = AuReg_model.predict(steps=10)\n",
    "\n",
    "    # cant fix the valuewarnin rn, will fix later. suppress now.\n",
    "\n",
    "import warnings\n",
    "warnings.filterwarnings(\"ignore\")\n",
    "\n",
    "#---------------------------------------------------\n",
    "\n",
    "MovAve_model.fit(train_data['Close'], window_size=5)\n",
    "AAPL_MovAve_pred = MovAve_model.predict()\n",
    "\n",
    "#---------------------------------------------------\n",
    "\n",
    "ARIMA_model.fit(train_data['Close'], order=(1, 1, 1))\n",
    "AAPL_ARIMA_pred = ARIMA_model.predict(steps=10)\n",
    "\n",
    "#---------------------------------------------------\n",
    "\n",
    "SARIMA_model.fit(train_data['Close'], order=(1, 1, 1), seasonal_order=(1, 1, 1, 12))\n",
    "AAPL_SARIMA_pred = SARIMA_model.predict(steps=10)\n",
    "\n",
    "#---------------------------------------------------\n",
    "\n",
    "GARCH_model.fit(train_data['Close'])\n",
    "AAPL_GARCH_pred = GARCH_model.predict(steps=10)"
   ]
  },
  {
   "cell_type": "code",
   "execution_count": null,
   "metadata": {},
   "outputs": [],
   "source": []
  },
  {
   "cell_type": "markdown",
   "metadata": {},
   "source": [
    " ## _Phase 3.5: SPDR S&P 500 ETF Trust (ARCX: SPY)_"
   ]
  },
  {
   "cell_type": "code",
   "execution_count": 28,
   "metadata": {},
   "outputs": [],
   "source": [
    "train_data = SPY_data['Close'][:int(len(SPY_data)*0.8)]\n",
    "test_data = SPY_data['Close'][int(len(SPY_data)*0.8):]\n",
    "train_data = pd.DataFrame(train_data)\n",
    "test_data = pd.DataFrame(test_data)\n",
    "\n",
    "X_train = train_data.values[:-1].reshape(-1,1)\n",
    "y_train = train_data.values[1:]\n",
    "X_test = test_data.values[:-1].reshape(-1,1)\n",
    "y_test = test_data.values[1:]\n",
    "\n",
    "#---------------------------------------------------\n",
    "\n",
    "LinearReg_model.fit(X_train, y_train)\n",
    "SPY_LR_pred = LinearReg_model.predict(X_test)\n",
    "\n",
    "#---------------------------------------------------\n",
    "\n",
    "close_series = train_data['Close']\n",
    "AuReg_model.fit(train_data['Close'], lags=3)\n",
    "SPY_AR_pred = AuReg_model.predict(steps=10)\n",
    "\n",
    "    # cant fix the valuewarnin rn, will fix later. suppress now.\n",
    "\n",
    "import warnings\n",
    "warnings.filterwarnings(\"ignore\")\n",
    "\n",
    "#---------------------------------------------------\n",
    "\n",
    "MovAve_model.fit(train_data['Close'], window_size=5)\n",
    "SPY_MovAve_pred = MovAve_model.predict()\n",
    "\n",
    "#---------------------------------------------------\n",
    "\n",
    "ARIMA_model.fit(train_data['Close'], order=(1, 1, 1))\n",
    "SPY_ARIMA_pred = ARIMA_model.predict(steps=10)\n",
    "\n",
    "#---------------------------------------------------\n",
    "\n",
    "SARIMA_model.fit(train_data['Close'], order=(1, 1, 1), seasonal_order=(1, 1, 1, 12))\n",
    "SPY_SARIMA_pred = SARIMA_model.predict(steps=10)\n",
    "\n",
    "#---------------------------------------------------\n",
    "\n",
    "GARCH_model.fit(train_data['Close'])\n",
    "SPY_GARCH_pred = GARCH_model.predict(steps=10)"
   ]
  },
  {
   "cell_type": "code",
   "execution_count": null,
   "metadata": {},
   "outputs": [],
   "source": []
  },
  {
   "cell_type": "markdown",
   "metadata": {},
   "source": [
    " # <strong> Phase 4: Findings and Summary\n",
    " ***"
   ]
  },
  {
   "cell_type": "code",
   "execution_count": null,
   "metadata": {},
   "outputs": [],
   "source": []
  },
  {
   "cell_type": "markdown",
   "metadata": {},
   "source": [
    " ## _Phase 4.1: Tesla, Incorporated (NASDAQ: TSLA)_"
   ]
  },
  {
   "cell_type": "code",
   "execution_count": null,
   "metadata": {},
   "outputs": [],
   "source": []
  },
  {
   "cell_type": "markdown",
   "metadata": {},
   "source": [
    " ## _Phase 4.2: GameStop Corporation (NYSE: GME)_"
   ]
  },
  {
   "cell_type": "code",
   "execution_count": null,
   "metadata": {},
   "outputs": [],
   "source": []
  },
  {
   "cell_type": "markdown",
   "metadata": {},
   "source": [
    " ## _Phase 4.3: Advanced Micro Devices, Incorporated (NASDAQ: AMD)_"
   ]
  },
  {
   "cell_type": "code",
   "execution_count": null,
   "metadata": {},
   "outputs": [],
   "source": []
  },
  {
   "cell_type": "markdown",
   "metadata": {},
   "source": [
    " ## _Phase 4.4: Apple, Incorporated (NASDAQ: AAPL)_"
   ]
  },
  {
   "cell_type": "code",
   "execution_count": null,
   "metadata": {},
   "outputs": [],
   "source": []
  },
  {
   "cell_type": "markdown",
   "metadata": {},
   "source": [
    " ## _Phase 4.5: SPDR S&P 500 ETF Trust (ARCX: SPY)_"
   ]
  },
  {
   "cell_type": "code",
   "execution_count": null,
   "metadata": {},
   "outputs": [],
   "source": []
  }
 ],
 "metadata": {
  "kernelspec": {
   "display_name": "base",
   "language": "python",
   "name": "python3"
  },
  "language_info": {
   "codemirror_mode": {
    "name": "ipython",
    "version": 3
   },
   "file_extension": ".py",
   "mimetype": "text/x-python",
   "name": "python",
   "nbconvert_exporter": "python",
   "pygments_lexer": "ipython3",
   "version": "3.12.3"
  }
 },
 "nbformat": 4,
 "nbformat_minor": 2
}
